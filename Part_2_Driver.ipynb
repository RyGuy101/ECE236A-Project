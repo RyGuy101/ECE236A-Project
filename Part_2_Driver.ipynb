{
  "nbformat": 4,
  "nbformat_minor": 0,
  "metadata": {
    "colab": {
      "name": "Part 2 Driver.ipynb",
      "provenance": [],
      "collapsed_sections": []
    },
    "kernelspec": {
      "name": "python3",
      "display_name": "Python 3"
    },
    "language_info": {
      "name": "python"
    }
  },
  "cells": [
    {
      "cell_type": "code",
      "metadata": {
        "id": "u80Rj-iUtRiM"
      },
      "source": [
        "import numpy as np\n",
        "import cvxpy as cp\n",
        "import matplotlib.pyplot as plt\n",
        "from scipy.spatial import distance\n",
        "import random\n",
        "import requests, gzip, os, hashlib\n",
        "from MyClassifier_13 import MyClassifier\n",
        "np.random.seed(1)\n",
        "random.seed(1)"
      ],
      "execution_count": 12,
      "outputs": []
    },
    {
      "cell_type": "code",
      "source": [
        "### Utility Functions\n",
        "def percentage_correct(inferences, labels):\n",
        "    N_test = inferences.shape[0]\n",
        "    return 1/N_test * np.ones(N_test)@(labels == inferences)\n",
        "\n",
        "def make_dataset(N):\n",
        "        Y = np.concatenate((np.random.multivariate_normal(np.array([-1,1]), np.identity(2), N//2), np.random.multivariate_normal(np.array([1,-1]), np.identity(2), N//2)))\n",
        "        S = np.concatenate((-np.ones(N//2, dtype=np.int8), np.ones(N//2, dtype=np.int8)))\n",
        "        return (Y, S)\n",
        "\n",
        "def fetch(url):\n",
        "  \"\"\"\n",
        "  fetches the data from MNIST website\n",
        "  \"\"\"\n",
        "  fp = os.path.join(path, hashlib.md5(url.encode('utf-8')).hexdigest())\n",
        "  if os.path.isfile(fp):\n",
        "      with open(fp, \"rb\") as f:\n",
        "          data = f.read()\n",
        "  else:\n",
        "      with open(fp, \"wb\") as f:\n",
        "          data = requests.get(url).content\n",
        "          f.write(data)\n",
        "  return np.frombuffer(gzip.decompress(data), dtype=np.uint8).copy()"
      ],
      "metadata": {
        "id": "FchKIxzqY-rQ"
      },
      "execution_count": 9,
      "outputs": []
    },
    {
      "cell_type": "code",
      "metadata": {
        "id": "cbrrNUKAo4Gh"
      },
      "source": [
        "### driver code\n",
        "###############################################################################\n",
        "use_mnist = False # Set to True to use MNIST, False to use synthetic data (smaller and faster)\n",
        "###############################################################################\n",
        "if use_mnist:\n",
        "    # fetching the MNIST data\n",
        "\n",
        "    ### change this line of code to put the data where you want it\n",
        "    path = \"./testing\"\n",
        "    os.makedirs(path, exist_ok=True)\n",
        "    ###\n",
        "\n",
        "    y_train = fetch(\"http://yann.lecun.com/exdb/mnist/train-images-idx3-ubyte.gz\")[0x10:].reshape((-1, 784))\n",
        "    s_train = fetch(\"http://yann.lecun.com/exdb/mnist/train-labels-idx1-ubyte.gz\")[8:]\n",
        "    y_test = fetch(\"http://yann.lecun.com/exdb/mnist/t10k-images-idx3-ubyte.gz\")[0x10:].reshape((-1, 784))\n",
        "    s_test = fetch(\"http://yann.lecun.com/exdb/mnist/t10k-labels-idx1-ubyte.gz\")[8:]\n",
        "\n",
        "    ###########################################################################\n",
        "    ### CHANGE THESE NUMBERS TO USE DIFFERENT DIGITS FOR CLASSIFICATION\n",
        "    num1 = 1\n",
        "    num2 = 7\n",
        "    ###########################################################################\n",
        "    y_train = y_train[(s_train == num1) | (s_train == num2)]\n",
        "    s_train = s_train[(s_train == num1) | (s_train == num2)].astype(np.int8)\n",
        "    y_test = y_test[(s_test == num1) | (s_test == num2)]\n",
        "    s_test = s_test[(s_test == num1) | (s_test == num2)].astype(np.int8)\n",
        "\n",
        "    # map 1's to s = 1 and 7's to s = -1\n",
        "    s_train[s_train == num1] = 1\n",
        "    s_train[s_train == num2] = -1\n",
        "    s_test[s_test == num1] = 1\n",
        "    s_test[s_test == num2] = -1\n",
        "\n",
        "    N_train = s_train.shape[0]\n",
        "    training_indices = np.random.choice(range(y_train.shape[0]), size=N_train, replace=False)\n",
        "    y_train = y_train[training_indices]\n",
        "    s_train = s_train[training_indices]\n",
        "\n",
        "else:\n",
        "    # synthetic dataset\n",
        "    N_train = 12000\n",
        "    N_test = 2000\n",
        "\n",
        "    y_train, s_train = make_dataset(N_train)\n",
        "    y_test, s_test = make_dataset(N_test)"
      ],
      "execution_count": 10,
      "outputs": []
    },
    {
      "cell_type": "code",
      "metadata": {
        "id": "DMIhYc5pDqpv",
        "colab": {
          "base_uri": "https://localhost:8080/"
        },
        "outputId": "924f0d8c-cf4f-4898-bb30-012a2c09e61d"
      },
      "source": [
        "# LP\n",
        "model = MyClassifier(y_train.shape[1])\n",
        "y_new, s_new = model.LP(y_train, s_train)\n",
        "model = MyClassifier(y_new.shape[1])\n",
        "model.train(y_new, s_new)\n",
        "\n",
        "inferences = model.test(y_test)\n",
        "print(percentage_correct(inferences, s_test))"
      ],
      "execution_count": 11,
      "outputs": [
        {
          "output_type": "stream",
          "name": "stdout",
          "text": [
            "No. of chosen samples = 40\n",
            "0.9250000000000007\n"
          ]
        }
      ]
    },
    {
      "cell_type": "code",
      "metadata": {
        "colab": {
          "base_uri": "https://localhost:8080/"
        },
        "id": "emKbajCGrbC8",
        "outputId": "6a3b3a21-ffe6-483d-9246-bb508bac9876"
      },
      "source": [
        "# ILP\n",
        "model = MyClassifier(y_train.shape[1])\n",
        "y_new, s_new = model.ILP(y_train,s_train)\n",
        "model = MyClassifier(y_new.shape[1])\n",
        "model.train(y_new, s_new)\n",
        "\n",
        "inferences = model.test(y_test)\n",
        "print(percentage_correct(inferences, s_test))"
      ],
      "execution_count": 5,
      "outputs": [
        {
          "output_type": "stream",
          "name": "stdout",
          "text": [
            "No. of chosen samples = 40\n",
            "0.9250000000000007\n"
          ]
        }
      ]
    },
    {
      "cell_type": "code",
      "source": [
        "# What is we used all points?\n",
        "model = MyClassifier(y_train.shape[1])\n",
        "model.train(y_train, s_train)\n",
        "\n",
        "inferences = model.test(y_test)\n",
        "print(percentage_correct(inferences, s_test))"
      ],
      "metadata": {
        "colab": {
          "base_uri": "https://localhost:8080/"
        },
        "id": "aPl34ICCjVHD",
        "outputId": "455cd72f-e60b-411c-b4e1-75a36f302e99"
      },
      "execution_count": 6,
      "outputs": [
        {
          "output_type": "stream",
          "name": "stdout",
          "text": [
            "0.9235000000000007\n"
          ]
        }
      ]
    }
  ]
}