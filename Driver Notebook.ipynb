{
 "cells": [
  {
   "cell_type": "code",
   "execution_count": 1,
   "id": "e1507253",
   "metadata": {},
   "outputs": [],
   "source": [
    "%load_ext autoreload\n",
    "%autoreload 2\n",
    "\n",
    "from MyClassifier_13 import MyClassifier\n",
    "import numpy as np\n",
    "import requests, gzip, os, hashlib\n",
    "\n",
    "np.random.seed(1) # for reproducibility"
   ]
  },
  {
   "cell_type": "code",
   "execution_count": 2,
   "id": "22e4ce46",
   "metadata": {
    "scrolled": true
   },
   "outputs": [],
   "source": [
    "### driver code\n",
    "use_mnist = False # Set to True to use MNIST, False to use synthetic data (smaller and faster)\n",
    "\n",
    "if use_mnist:\n",
    "    # fetching the MNIST data\n",
    "\n",
    "    ### change this line of code to put the data where you want it\n",
    "    path = \"./testing\"\n",
    "    os.makedirs(path, exist_ok=True)\n",
    "    ###\n",
    "\n",
    "    def fetch(url):\n",
    "        fp = os.path.join(path, hashlib.md5(url.encode('utf-8')).hexdigest())\n",
    "        if os.path.isfile(fp):\n",
    "            with open(fp, \"rb\") as f:\n",
    "                data = f.read()\n",
    "        else:\n",
    "            with open(fp, \"wb\") as f:\n",
    "                data = requests.get(url).content\n",
    "                f.write(data)\n",
    "        return np.frombuffer(gzip.decompress(data), dtype=np.uint8).copy()\n",
    "\n",
    "    y_train = fetch(\"http://yann.lecun.com/exdb/mnist/train-images-idx3-ubyte.gz\")[0x10:].reshape((-1, 784))\n",
    "    s_train = fetch(\"http://yann.lecun.com/exdb/mnist/train-labels-idx1-ubyte.gz\")[8:]\n",
    "    y_test = fetch(\"http://yann.lecun.com/exdb/mnist/t10k-images-idx3-ubyte.gz\")[0x10:].reshape((-1, 784))\n",
    "    s_test = fetch(\"http://yann.lecun.com/exdb/mnist/t10k-labels-idx1-ubyte.gz\")[8:]\n",
    "\n",
    "    # taking only 1's and 7's\n",
    "    y_train = y_train[(s_train == 1) | (s_train == 7)]\n",
    "    s_train = s_train[(s_train == 1) | (s_train == 7)].astype(np.int8)\n",
    "    y_test = y_test[(s_test == 1) | (s_test == 7)]\n",
    "    s_test = s_test[(s_test == 1) | (s_test == 7)].astype(np.int8)\n",
    "\n",
    "    # map 1's to s = 1 and 7's to s = -1\n",
    "    s_train[s_train == 1] = 1\n",
    "    s_train[s_train == 7] = -1\n",
    "    s_test[s_test == 1] = 1\n",
    "    s_test[s_test == 7] = -1\n",
    "\n",
    "else:\n",
    "    # synthetic dataset\n",
    "    def make_dataset(N):\n",
    "        Y = np.concatenate((np.random.multivariate_normal(np.array([-1,1]), np.identity(2), N//2), np.random.multivariate_normal(np.array([1,-1]), np.identity(2), N//2)))\n",
    "        S = np.concatenate((-np.ones(N//2), np.ones(N//2)))\n",
    "        return (Y, S)\n",
    "\n",
    "    N_train = 1000\n",
    "    N_test = 1000\n",
    "\n",
    "    y_train, s_train = make_dataset(N_train)\n",
    "    y_test, s_test = make_dataset(N_test)\n"
   ]
  },
  {
   "cell_type": "code",
   "execution_count": 3,
   "metadata": {},
   "outputs": [],
   "source": [
    "model = MyClassifier(y_train.shape[1])\n",
    "\n",
    "# # example sample selection:\n",
    "# training_sample = [1,0]\n",
    "# training_label = -1\n",
    "# model.current_training_label = training_label\n",
    "# model.sample_selection(training_sample)\n",
    "# print(model.y_train)\n",
    "# print(model.s_train)"
   ]
  },
  {
   "cell_type": "code",
   "execution_count": 4,
   "id": "35f01902",
   "metadata": {},
   "outputs": [
    {
     "name": "stdout",
     "output_type": "stream",
     "text": [
      "(1000, 2)\n",
      "(1000,)\n",
      "(1000, 2)\n",
      "(1000,)\n",
      "\n",
      "(500,)\n",
      "(500,)\n"
     ]
    }
   ],
   "source": [
    "print(y_train.shape)\n",
    "print(s_train.shape)\n",
    "print(y_test.shape)\n",
    "print(s_test.shape)\n",
    "\n",
    "# check for roughly equal amounts of training samples per class\n",
    "print()\n",
    "print((s_train[s_train == 1]).shape)\n",
    "print((s_train[s_train == -1]).shape)"
   ]
  },
  {
   "cell_type": "code",
   "execution_count": 5,
   "id": "1fa28fdd",
   "metadata": {},
   "outputs": [
    {
     "name": "stdout",
     "output_type": "stream",
     "text": [
      "\n",
      "The optimal value is 2.878930637175079e-13\n"
     ]
    },
    {
     "name": "stderr",
     "output_type": "stream",
     "text": [
      "/Users/ryannemiroff/miniconda3/lib/python3.9/site-packages/cvxpy/expressions/expression.py:558: UserWarning: \n",
      "This use of ``*`` has resulted in matrix multiplication.\n",
      "Using ``*`` for matrix multiplication has been deprecated since CVXPY 1.1.\n",
      "    Use ``*`` for matrix-scalar and vector-scalar multiplication.\n",
      "    Use ``@`` for matrix-matrix and matrix-vector multiplication.\n",
      "    Use ``multiply`` for elementwise multiplication.\n",
      "This code path has been hit 1 times so far.\n",
      "\n",
      "  warnings.warn(msg, UserWarning)\n"
     ]
    },
    {
     "data": {
      "text/plain": [
       "<MyClassifier_13.MyClassifier at 0x7feb70336b20>"
      ]
     },
     "execution_count": 5,
     "metadata": {},
     "output_type": "execute_result"
    }
   ],
   "source": [
    "# train\n",
    "model.train(y_train, s_train)"
   ]
  },
  {
   "cell_type": "code",
   "execution_count": 6,
   "metadata": {},
   "outputs": [
    {
     "name": "stdout",
     "output_type": "stream",
     "text": [
      "0.9250000000000007\n"
     ]
    }
   ],
   "source": [
    "# test\n",
    "def percentage_correct(inferences, labels):\n",
    "    N_test = inferences.shape[0]\n",
    "    return 1/N_test * np.ones(N_test)@(labels == inferences)\n",
    "\n",
    "inferences = model.test(y_test)\n",
    "print(percentage_correct(inferences, s_test))\n"
   ]
  }
 ],
 "metadata": {
  "interpreter": {
   "hash": "0bf10e30dacf324a923b279450ef944d560d8f5d2d6bc57c337d5e4bc6e8e9ee"
  },
  "kernelspec": {
   "display_name": "Python 3.9.1 64-bit ('base': conda)",
   "name": "python3"
  },
  "language_info": {
   "codemirror_mode": {
    "name": "ipython",
    "version": 3
   },
   "file_extension": ".py",
   "mimetype": "text/x-python",
   "name": "python",
   "nbconvert_exporter": "python",
   "pygments_lexer": "ipython3",
   "version": "3.9.1"
  }
 },
 "nbformat": 4,
 "nbformat_minor": 5
}
