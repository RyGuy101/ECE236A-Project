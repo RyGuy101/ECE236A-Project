{
 "cells": [
  {
   "cell_type": "code",
   "execution_count": 55,
   "id": "e1507253",
   "metadata": {},
   "outputs": [
    {
     "name": "stdout",
     "output_type": "stream",
     "text": [
      "The autoreload extension is already loaded. To reload it, use:\n",
      "  %reload_ext autoreload\n"
     ]
    }
   ],
   "source": [
    "%load_ext autoreload\n",
    "%autoreload 2\n",
    "\n",
    "from MyClassifier_13 import MyClassifier\n",
    "import numpy as np\n",
    "import requests, gzip, os, hashlib\n",
    "import matplotlib.pyplot as plt\n",
    "\n",
    "np.random.seed(1) # for reproducibility"
   ]
  },
  {
   "cell_type": "code",
   "execution_count": 56,
   "id": "22e4ce46",
   "metadata": {
    "scrolled": true
   },
   "outputs": [],
   "source": [
    "### driver code\n",
    "use_mnist = True # Set to True to use MNIST, False to use synthetic data (smaller and faster)\n",
    "\n",
    "if use_mnist:\n",
    "    # fetching the MNIST data\n",
    "\n",
    "    ### change this line of code to put the data where you want it\n",
    "    path = \"./testing\"\n",
    "    os.makedirs(path, exist_ok=True)\n",
    "    ###\n",
    "\n",
    "    def fetch(url):\n",
    "        fp = os.path.join(path, hashlib.md5(url.encode('utf-8')).hexdigest())\n",
    "        if os.path.isfile(fp):\n",
    "            with open(fp, \"rb\") as f:\n",
    "                data = f.read()\n",
    "        else:\n",
    "            with open(fp, \"wb\") as f:\n",
    "                data = requests.get(url).content\n",
    "                f.write(data)\n",
    "        return np.frombuffer(gzip.decompress(data), dtype=np.uint8).copy()\n",
    "\n",
    "    y_train = fetch(\"http://yann.lecun.com/exdb/mnist/train-images-idx3-ubyte.gz\")[0x10:].reshape((-1, 784))\n",
    "    s_train = fetch(\"http://yann.lecun.com/exdb/mnist/train-labels-idx1-ubyte.gz\")[8:]\n",
    "    y_test = fetch(\"http://yann.lecun.com/exdb/mnist/t10k-images-idx3-ubyte.gz\")[0x10:].reshape((-1, 784))\n",
    "    s_test = fetch(\"http://yann.lecun.com/exdb/mnist/t10k-labels-idx1-ubyte.gz\")[8:]\n",
    "\n",
    "    # taking only 1's and 7's\n",
    "    y_train = y_train[(s_train == 1) | (s_train == 7)]\n",
    "    s_train = s_train[(s_train == 1) | (s_train == 7)].astype(np.int8)\n",
    "    y_test = y_test[(s_test == 1) | (s_test == 7)]\n",
    "    s_test = s_test[(s_test == 1) | (s_test == 7)].astype(np.int8)\n",
    "\n",
    "    # map 1's to s = 1 and 7's to s = -1\n",
    "    s_train[s_train == 1] = 1\n",
    "    s_train[s_train == 7] = -1\n",
    "    s_test[s_test == 1] = 1\n",
    "    s_test[s_test == 7] = -1\n",
    "\n",
    "    # N_train = 1500 # reduce training size so it completes faster\n",
    "    N_train = y_train.shape[0] # keep all training data\n",
    "\n",
    "    # Randomly select and randomly order\n",
    "    training_indices = np.random.choice(range(y_train.shape[0]), size=N_train, replace=False)\n",
    "    y_train = y_train[training_indices]\n",
    "    s_train = s_train[training_indices]\n",
    "\n",
    "else:\n",
    "    # synthetic dataset\n",
    "    def make_dataset(N):\n",
    "        Y = np.concatenate((np.random.multivariate_normal(np.array([-1,1]), np.identity(2), N//2), np.random.multivariate_normal(np.array([1,-1]), np.identity(2), N//2)))\n",
    "        S = np.concatenate((-np.ones(N//2, dtype=np.int8), np.ones(N//2, dtype=np.int8)))\n",
    "        order = list(range(Y.shape[0]))\n",
    "        np.random.shuffle(order) # randomly order\n",
    "        Y = Y[order]\n",
    "        S = S[order]\n",
    "        return (Y, S)\n",
    "\n",
    "    N_train = 2000\n",
    "    N_test = 1000\n",
    "\n",
    "    y_train, s_train = make_dataset(N_train)\n",
    "    y_test, s_test = make_dataset(N_test)\n"
   ]
  },
  {
   "cell_type": "code",
   "execution_count": 57,
   "id": "35f01902",
   "metadata": {},
   "outputs": [
    {
     "name": "stdout",
     "output_type": "stream",
     "text": [
      "(13007, 784)\n",
      "(13007,)\n",
      "(2163, 784)\n",
      "(2163,)\n",
      "\n",
      "(6742,)\n",
      "(6265,)\n"
     ]
    }
   ],
   "source": [
    "print(y_train.shape)\n",
    "print(s_train.shape)\n",
    "print(y_test.shape)\n",
    "print(s_test.shape)\n",
    "\n",
    "# check for roughly equal amounts of training samples per class\n",
    "print()\n",
    "print((s_train[s_train == 1]).shape)\n",
    "print((s_train[s_train == -1]).shape)"
   ]
  },
  {
   "cell_type": "code",
   "execution_count": 58,
   "id": "9f8532e8",
   "metadata": {},
   "outputs": [],
   "source": [
    "# define function\n",
    "def percentage_correct(inferences, labels):\n",
    "    N_test = inferences.shape[0]\n",
    "    return 1/N_test * np.ones(N_test)@(labels == inferences)"
   ]
  },
  {
   "cell_type": "code",
   "execution_count": 59,
   "id": "1fa28fdd",
   "metadata": {},
   "outputs": [
    {
     "name": "stdout",
     "output_type": "stream",
     "text": [
      "test dataset percent correct: 0.9930651872399597\n",
      "0.050296975788581826\n"
     ]
    }
   ],
   "source": [
    "# train all at once\n",
    "model = MyClassifier(y_train.shape[1])\n",
    "model.train(y_train, s_train)\n",
    "\n",
    "inferences = model.test(y_test)\n",
    "print(\"test dataset percent correct: {}\".format(percentage_correct(inferences, s_test)))\n",
    "print(np.linalg.norm(model.W))\n",
    "\n",
    "if y_train.shape[1] == 2:\n",
    "    # Original data\n",
    "    x1 = [val[0] for val in y_train[s_train==-1]]\n",
    "    y1 = [val[1] for val in y_train[s_train==-1]]\n",
    "    plt.scatter(x1, y1)\n",
    "\n",
    "    x2 = [val[0] for val in y_train[s_train==1]]\n",
    "    y2 = [val[1] for val in y_train[s_train==1]]\n",
    "    plt.scatter(x2, y2)\n",
    "\n",
    "    x_plane = np.linspace(np.amin(y_train[:,0]), np.amax(y_train[:,0]), 100)\n",
    "    y_plane = -1/model.W[1] * (model.W[0]*x_plane + model.w)\n",
    "    plt.plot(x_plane, y_plane, '-r')\n",
    "\n",
    "    x_plane_margin1 = np.linspace(np.amin(y_train[:,0]), np.amax(y_train[:,0]), 100)\n",
    "    y_plane_margin1 = -1/model.W[1] * (model.W[0]*x_plane + model.w + 1)\n",
    "    plt.plot(x_plane_margin1, y_plane_margin1, '-k')\n",
    "\n",
    "    x_plane_margin2 = np.linspace(np.amin(y_train[:,0]), np.amax(y_train[:,0]), 100)\n",
    "    y_plane_margin2 = -1/model.W[1] * (model.W[0]*x_plane + model.w - 1)\n",
    "    plt.plot(x_plane_margin2, y_plane_margin2, '-k')\n",
    "\n",
    "    plt.show()"
   ]
  },
  {
   "cell_type": "code",
   "execution_count": 60,
   "id": "5fa6e54d",
   "metadata": {
    "tags": []
   },
   "outputs": [
    {
     "name": "stdout",
     "output_type": "stream",
     "text": [
      "Used 181 out of 13007 samples\n",
      "test dataset percent correct: 0.9907535829866078\n"
     ]
    },
    {
     "data": {
      "image/png": "[encoded data removed]",
      "text/plain": [
       "<Figure size 432x288 with 1 Axes>"
      ]
     },
     "metadata": {
      "needs_background": "light"
     },
     "output_type": "display_data"
    },
    {
     "name": "stdout",
     "output_type": "stream",
     "text": [
      "reaches 50.0% accuracy after these training sample counts: [5]\n",
      "reaches 65.0% accuracy after these training sample counts: [5]\n",
      "reaches 80.0% accuracy after these training sample counts: [6]\n",
      "reaches 95.0% accuracy after these training sample counts: [7, 16, 20, 22]\n"
     ]
    }
   ],
   "source": [
    "# train online\n",
    "model = MyClassifier(y_train.shape[1])\n",
    "percentage_over_time = [] # indexed by number of training samples used\n",
    "\n",
    "inferences = model.test(y_test)\n",
    "percentage_over_time.append(percentage_correct(inferences, s_test)) # first element corresponds to 0 training samples\n",
    "\n",
    "for i in range(len(y_train)):\n",
    "    prev_size = model.y_train.shape[0]\n",
    "    model.sample_selection(y_train[i], s_train[i])\n",
    "    if model.y_train.shape[0] > prev_size:\n",
    "        model.train()\n",
    "        inferences = model.test(y_test)\n",
    "        percentage_over_time.append(percentage_correct(inferences, s_test))\n",
    "\n",
    "print(\"Used {} out of {} samples\".format(model.y_train.shape[0], y_train.shape[0]))\n",
    "\n",
    "inferences = model.test(y_test)\n",
    "print(\"test dataset percent correct: {}\".format(percentage_correct(inferences, s_test)))\n",
    "\n",
    "plt.plot(list(range(len(percentage_over_time))), percentage_over_time)\n",
    "plt.show()\n",
    "\n",
    "thresholds = [0.50, 0.65, 0.80, 0.95]\n",
    "crossing_points = {}\n",
    "for threshold in thresholds:\n",
    "    crossing_points[threshold] = []\n",
    "    under_threshold = True\n",
    "    for i in range(len(percentage_over_time)):\n",
    "        if under_threshold and percentage_over_time[i] >= threshold:\n",
    "            crossing_points[threshold].append(i)\n",
    "            under_threshold = False\n",
    "        elif percentage_over_time[i] < threshold:\n",
    "            under_threshold = True\n",
    "    print(\"reaches {}% accuracy after these training sample counts: {}\".format(threshold*100, crossing_points[threshold]))\n",
    "\n",
    "if y_train.shape[1] == 2:\n",
    "    # Selected data\n",
    "    x1 = [val[0] for val in model.y_train[model.s_train==-1]]\n",
    "    y1 = [val[1] for val in model.y_train[model.s_train==-1]]\n",
    "    plt.scatter(x1, y1)\n",
    "\n",
    "    x2 = [val[0] for val in model.y_train[model.s_train==1]]\n",
    "    y2 = [val[1] for val in model.y_train[model.s_train==1]]\n",
    "    plt.scatter(x2, y2)\n",
    "\n",
    "    x_plane = np.linspace(np.amin(model.y_train[:,0]), np.amax(model.y_train[:,0]), 100)\n",
    "    y_plane = -1/model.W[1] * (model.W[0]*x_plane + model.w)\n",
    "    plt.plot(x_plane, y_plane, '-r')\n",
    "\n",
    "    x_plane_margin1 = np.linspace(np.amin(model.y_train[:,0]), np.amax(model.y_train[:,0]), 100)\n",
    "    y_plane_margin1 = -1/model.W[1] * (model.W[0]*x_plane + model.w + 1)\n",
    "    plt.plot(x_plane_margin1, y_plane_margin1, '-k')\n",
    "\n",
    "    x_plane_margin2 = np.linspace(np.amin(model.y_train[:,0]), np.amax(model.y_train[:,0]), 100)\n",
    "    y_plane_margin2 = -1/model.W[1] * (model.W[0]*x_plane + model.w - 1)\n",
    "    plt.plot(x_plane_margin2, y_plane_margin2, '-k')\n",
    "\n",
    "    plt.show()"
   ]
  },
  {
   "cell_type": "code",
   "execution_count": 61,
   "id": "87289ae5",
   "metadata": {},
   "outputs": [
    {
     "name": "stdout",
     "output_type": "stream",
     "text": [
      "test dataset percent correct: 0.9782709200185075\n"
     ]
    },
    {
     "data": {
      "image/png": "[encoded data removed]",
      "text/plain": [
       "<Figure size 432x288 with 1 Axes>"
      ]
     },
     "metadata": {
      "needs_background": "light"
     },
     "output_type": "display_data"
    },
    {
     "name": "stdout",
     "output_type": "stream",
     "text": [
      "reaches 50.0% accuracy after these training sample counts: [2]\n",
      "reaches 65.0% accuracy after these training sample counts: [2]\n",
      "reaches 80.0% accuracy after these training sample counts: [2]\n",
      "reaches 95.0% accuracy after these training sample counts: [82]\n"
     ]
    }
   ],
   "source": [
    "# Choose the same number samples selected by the algorithm, but randomly\n",
    "num_samples = model.y_train.shape[0]\n",
    "rand_train_indices = np.random.choice(range(y_train.shape[0]), size=num_samples, replace=False)\n",
    "rand_y_train = y_train[rand_train_indices]\n",
    "rand_s_train = s_train[rand_train_indices]\n",
    "\n",
    "model = MyClassifier(y_train.shape[1])\n",
    "percentage_over_time = []\n",
    "\n",
    "inferences = model.test(y_test)\n",
    "percentage_over_time.append(percentage_correct(inferences, s_test)) # first element corresponds to 0 training samples\n",
    "\n",
    "for i in range(num_samples):\n",
    "    model.train(rand_y_train[0:i+1], rand_s_train[0:i+1])\n",
    "    inferences = model.test(y_test)\n",
    "    percentage_over_time.append(percentage_correct(inferences, s_test))\n",
    "\n",
    "inferences = model.test(y_test)\n",
    "print(\"test dataset percent correct: {}\".format(percentage_correct(inferences, s_test)))\n",
    "\n",
    "plt.plot(list(range(len(percentage_over_time))), percentage_over_time)\n",
    "plt.show()\n",
    "\n",
    "thresholds = [0.50, 0.65, 0.80, 0.95]\n",
    "crossing_points = {}\n",
    "for threshold in thresholds:\n",
    "    crossing_points[threshold] = []\n",
    "    under_threshold = True\n",
    "    for i in range(len(percentage_over_time)):\n",
    "        if under_threshold and percentage_over_time[i] >= threshold:\n",
    "            crossing_points[threshold].append(i)\n",
    "            under_threshold = False\n",
    "        elif percentage_over_time[i] < threshold:\n",
    "            under_threshold = True\n",
    "    print(\"reaches {}% accuracy after these training sample counts: {}\".format(threshold*100, crossing_points[threshold]))"
   ]
  },
  {
   "cell_type": "code",
   "execution_count": 62,
   "id": "2180757f-e82f-4f41-b623-6bda1a48342e",
   "metadata": {},
   "outputs": [],
   "source": [
    "def choose_data(y,s, ratio_to_use):\n",
    "    N = y.shape[0]\n",
    "    idxes = np.random.choice(N, size=int(N*ratio_to_use), replace=False)\n",
    "    y_select = np.take(y, idxes, axis=0)  \n",
    "    s_select = np.take(s, idxes, axis=0)\n",
    "    return y_select, s_select"
   ]
  },
  {
   "cell_type": "code",
   "execution_count": 63,
   "id": "adbdb186-534f-4494-873d-4587100bfa48",
   "metadata": {},
   "outputs": [],
   "source": [
    "percentage_list = [0.001,0.002,0.003, 0.005, 0.01, 0.05, 0.1, 0.2, 0.3, 0.4, 0.5, 0.6, 0.7, 0.8, 0.9, 1.0]\n",
    "percentage_correct_list = []\n",
    "for n in percentage_list:\n",
    "    y_train_select, s_train_select = choose_data(y_train,s_train, n)\n",
    "    # train all at once\n",
    "    model = MyClassifier(y_train.shape[1])\n",
    "    model.train(y_train_select, s_train_select)\n",
    "    inferences = model.test(y_test)\n",
    "    percentage_correct_list.append(percentage_correct(inferences, s_test))"
   ]
  },
  {
   "cell_type": "code",
   "execution_count": 64,
   "id": "676ae2e2-26f8-4f62-bc7f-7845b22c226b",
   "metadata": {},
   "outputs": [
    {
     "data": {
      "text/plain": [
       "Text(0, 0.5, 'Percentage of correct inference on test data (%)')"
      ]
     },
     "execution_count": 64,
     "metadata": {},
     "output_type": "execute_result"
    },
    {
     "data": {
      "image/png": "[encoded data removed]",
      "text/plain": [
       "<Figure size 720x360 with 1 Axes>"
      ]
     },
     "metadata": {
      "needs_background": "light"
     },
     "output_type": "display_data"
    }
   ],
   "source": [
    "fig, ax = plt.subplots(1,1, figsize=(10,5))\n",
    "ax.bar([str(p*100) for p in percentage_list], [p*100 for p in percentage_correct_list])\n",
    "ax.set_title('Percentage of training data and result of inference on test data')\n",
    "ax.set_xlabel('Percentage of entire training data used for training (%)')\n",
    "ax.set_ylabel('Percentage of correct inference on test data (%)')\n",
    "# Not sure what to make of these results; Is it overfitting at around 40% and then generalizing???"
   ]
  },
  {
   "cell_type": "code",
   "execution_count": 65,
   "id": "6fdc0e63-c2f7-48f4-a7bd-39ab95877611",
   "metadata": {},
   "outputs": [],
   "source": [
    "def show_test_result(i,ax):\n",
    "    im = y_test[i].reshape(28,28)\n",
    "    ax.imshow(im)\n",
    "    if inferences[i] == 1:\n",
    "        ax.set_title('1')\n",
    "    elif inferences[i] == -1:\n",
    "        ax.set_title('7')"
   ]
  },
  {
   "cell_type": "code",
   "execution_count": 66,
   "id": "f766c27e-5c6f-4926-be92-5eadd7198376",
   "metadata": {},
   "outputs": [
    {
     "data": {
      "image/png": "[encoded data removed]",
      "text/plain": [
       "<Figure size 720x720 with 10 Axes>"
      ]
     },
     "metadata": {
      "needs_background": "light"
     },
     "output_type": "display_data"
    }
   ],
   "source": [
    "fig, axes = plt.subplots(1,10, figsize=(10,10))\n",
    "for i, ax in enumerate(axes):\n",
    "    show_test_result(i, ax)\n",
    "    "
   ]
  },
  {
   "cell_type": "code",
   "execution_count": null,
   "id": "8dcbb05a-c272-456c-9936-eb3904ce47e0",
   "metadata": {},
   "outputs": [],
   "source": []
  }
 ],
 "metadata": {
  "interpreter": {
   "hash": "0bf10e30dacf324a923b279450ef944d560d8f5d2d6bc57c337d5e4bc6e8e9ee"
  },
  "kernelspec": {
   "display_name": "Python 3 (ipykernel)",
   "language": "python",
   "name": "python3"
  },
  "language_info": {
   "codemirror_mode": {
    "name": "ipython",
    "version": 3
   },
   "file_extension": ".py",
   "mimetype": "text/x-python",
   "name": "python",
   "nbconvert_exporter": "python",
   "pygments_lexer": "ipython3",
   "version": "3.9.8"
  }
 },
 "nbformat": 4,
 "nbformat_minor": 5
}
