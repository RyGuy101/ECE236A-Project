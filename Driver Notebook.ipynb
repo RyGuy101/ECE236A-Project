{
 "cells": [
  {
   "cell_type": "code",
   "execution_count": 16,
   "id": "e1507253",
   "metadata": {},
   "outputs": [],
   "source": [
    "from MyClassifier_13 import MyClassifier\n",
    "import numpy as np\n",
    "import requests, gzip, os, hashlib"
   ]
  },
  {
   "cell_type": "code",
   "execution_count": 17,
   "id": "22e4ce46",
   "metadata": {
    "scrolled": true
   },
   "outputs": [],
   "source": [
    "### driver code\n",
    "# fetching the MNIST data\n",
    "\n",
    "### change this line of code to put the data where you want it\n",
    "path = \"./testing\"\n",
    "os.makedirs(path, exist_ok=True)\n",
    "###\n",
    "\n",
    "def fetch(url):\n",
    "    fp = os.path.join(path, hashlib.md5(url.encode('utf-8')).hexdigest())\n",
    "    if os.path.isfile(fp):\n",
    "        with open(fp, \"rb\") as f:\n",
    "            data = f.read()\n",
    "    else:\n",
    "        with open(fp, \"wb\") as f:\n",
    "            data = requests.get(url).content\n",
    "            f.write(data)\n",
    "    return np.frombuffer(gzip.decompress(data), dtype=np.uint8).copy()\n",
    "\n",
    "y_train = fetch(\"http://yann.lecun.com/exdb/mnist/train-images-idx3-ubyte.gz\")[0x10:].reshape((-1, 784))\n",
    "s_train = fetch(\"http://yann.lecun.com/exdb/mnist/train-labels-idx1-ubyte.gz\")[8:]\n",
    "y_test = fetch(\"http://yann.lecun.com/exdb/mnist/t10k-images-idx3-ubyte.gz\")[0x10:].reshape((-1, 784))\n",
    "s_test = fetch(\"http://yann.lecun.com/exdb/mnist/t10k-labels-idx1-ubyte.gz\")[8:]\n",
    "\n",
    "# taking only 1's and 7's\n",
    "y_train = y_train[(s_train == 1) | (s_train == 7)]\n",
    "s_train = s_train[(s_train == 1) | (s_train == 7)]\n",
    "y_test = y_test[(s_test == 1) | (s_test == 7)]\n",
    "s_test = s_test[(s_test == 1) | (s_test == 7)]\n",
    "\n",
    "# map 1's to s = 1 and 7's to s = -1\n",
    "s_train[s_train == 1] = 1\n",
    "s_train[s_train == 7] = -1\n",
    "s_test[s_test == 1] = 1\n",
    "s_test[s_test == 7] = -1\n",
    "\n",
    "model = MyClassifier([y_train, s_train, y_test, s_test])"
   ]
  },
  {
   "cell_type": "code",
   "execution_count": 18,
   "id": "35f01902",
   "metadata": {},
   "outputs": [
    {
     "name": "stdout",
     "output_type": "stream",
     "text": [
      "(13007, 784)\n",
      "(13007,)\n",
      "(2163, 784)\n",
      "(2163,)\n"
     ]
    }
   ],
   "source": [
    "print(y_train.shape)\n",
    "print(s_train.shape)\n",
    "print(y_test.shape)\n",
    "print(s_test.shape)"
   ]
  },
  {
   "cell_type": "code",
   "execution_count": null,
   "id": "1fa28fdd",
   "metadata": {},
   "outputs": [],
   "source": []
  }
 ],
 "metadata": {
  "interpreter": {
   "hash": "0bf10e30dacf324a923b279450ef944d560d8f5d2d6bc57c337d5e4bc6e8e9ee"
  },
  "kernelspec": {
   "display_name": "Python 3.9.1 64-bit ('base': conda)",
   "name": "python3"
  },
  "language_info": {
   "codemirror_mode": {
    "name": "ipython",
    "version": 3
   },
   "file_extension": ".py",
   "mimetype": "text/x-python",
   "name": "python",
   "nbconvert_exporter": "python",
   "pygments_lexer": "ipython3",
   "version": "3.9.1"
  }
 },
 "nbformat": 4,
 "nbformat_minor": 5
}
